{
 "cells": [
  {
   "cell_type": "code",
   "execution_count": 249,
   "metadata": {},
   "outputs": [],
   "source": [
    "import scipy.special as sc\n",
    "import numpy as np\n",
    "import math\n",
    "import matplotlib.pyplot as plt"
   ]
  },
  {
   "cell_type": "code",
   "execution_count": 250,
   "metadata": {},
   "outputs": [],
   "source": [
    "def Ei(phi,u,ct,r,rw,re,k,t):            #Ei calculator\n",
    "    t_high= (948*phi*u*ct*re**2)/k\n",
    "    t_low =(3.79*10**(5)*phi*u*ct*rw**2)/k\n",
    "    x = (948*phi*u*ct*(r**2)/(k*t))\n",
    "    if t> t_low and t <= t_high :\n",
    "        if x <= 0.02:\n",
    "            t= 1.781*x\n",
    "            return math.log(t)\n",
    "        else :\n",
    "            t= sc.expi(-x)\n",
    "            return t\n",
    "    else :\n",
    "        print('Eqn not applicable')"
   ]
  },
  {
   "cell_type": "code",
   "execution_count": 25,
   "metadata": {},
   "outputs": [
    {
     "data": {
      "text/plain": [
       "'B=1.475\\npi=3000\\nu=0.72\\nk=0.1\\nh=150\\nct=1.5*10**(-5)\\nphi=0.23\\nrw=0.5\\nq=20\\nt=3\\nre=3000\\nr=[1,10,100]'"
      ]
     },
     "execution_count": 25,
     "metadata": {},
     "output_type": "execute_result"
    }
   ],
   "source": [
    "'''\n",
    "B=1.475\n",
    "pi=3000\n",
    "u=0.72\n",
    "k=0.1\n",
    "h=150\n",
    "ct=1.5*10**(-5)\n",
    "phi=0.23\n",
    "rw=0.5\n",
    "q=20\n",
    "t=3\n",
    "re=3000\n",
    "r=[1,10,100]\n",
    "'''\n",
    "#EXAMPLE 1"
   ]
  },
  {
   "cell_type": "code",
   "execution_count": 253,
   "metadata": {},
   "outputs": [],
   "source": [
    "B=1.13\n",
    "pi=3000\n",
    "u=0.5\n",
    "k=25\n",
    "h=50\n",
    "ct=2*10**(-5)\n",
    "phi=0.16\n",
    "rw=0.333\n",
    "q=350\n",
    "t=10\n",
    "re=0\n",
    "r=[0.333,1,10,100,1000,3160]\n",
    "\n",
    "#QUESTION 1.2"
   ]
  },
  {
   "cell_type": "code",
   "execution_count": 235,
   "metadata": {},
   "outputs": [
    {
     "name": "stdout",
     "output_type": "stream",
     "text": [
      "6.727857408000002e-07\n",
      "6.067200000000001e-06\n",
      "0.00060672\n",
      "0.06067200000000001\n",
      "6.067200000000001\n",
      "60.58463232000001\n"
     ]
    }
   ],
   "source": [
    "for i in range(len(r)):\n",
    "    x = (948*phi*u*ct*(r[i]**2)/(k*t))\n",
    "    print(x)\n"
   ]
  },
  {
   "cell_type": "code",
   "execution_count": 238,
   "metadata": {},
   "outputs": [
    {
     "data": {
      "text/plain": [
       "-13.634623930213245"
      ]
     },
     "execution_count": 238,
     "metadata": {},
     "output_type": "execute_result"
    }
   ],
   "source": [
    "t= sc.expi(-6.727857408000002e-07)\n",
    "t*"
   ]
  },
  {
   "cell_type": "code",
   "execution_count": 241,
   "metadata": {},
   "outputs": [
    {
     "data": {
      "text/plain": [
       "-13.634663918021625"
      ]
     },
     "execution_count": 241,
     "metadata": {},
     "output_type": "execute_result"
    }
   ],
   "source": [
    "t= 1.781*6.727857408000002e-07\n",
    "oo=math.log(t)\n",
    "oo"
   ]
  },
  {
   "cell_type": "code",
   "execution_count": 244,
   "metadata": {},
   "outputs": [
    {
     "data": {
      "text/plain": [
       "2847.71552947273"
      ]
     },
     "execution_count": 244,
     "metadata": {},
     "output_type": "execute_result"
    }
   ],
   "source": [
    "tt=(70.6*q*B*u/(k*h))*oo\n",
    "tt+3000"
   ]
  },
  {
   "cell_type": "code",
   "execution_count": 254,
   "metadata": {},
   "outputs": [],
   "source": [
    "def pwf_calc(B,pi,u,k,ct,phi,rw,q,t,re,r):  #Wellbore flowing pressure calculator\n",
    "    zi=[]  \n",
    "    zy=[]\n",
    "    t=t*24\n",
    "    if re == 0:\n",
    "        re = math.sqrt((k*t)/(948*phi*u*ct))\n",
    "    else :\n",
    "        re = re\n",
    "    for i in range(len(r)):\n",
    "        r_n=r[i]\n",
    "        ii=Ei(phi,u,ct,r_n,rw,re,k,t)\n",
    "        zi.append(ii)\n",
    "    for y in range(len(r)):\n",
    "        pwf=pi+(70.6*q*B*u/(k*h))*zi[y]\n",
    "        zy.append(pwf)\n",
    "    return zy"
   ]
  },
  {
   "cell_type": "code",
   "execution_count": 255,
   "metadata": {},
   "outputs": [
    {
     "name": "stdout",
     "output_type": "stream",
     "text": [
      "Pressure are : [2812.2201004858803, 2836.783075028554, 2888.21785242224, 2939.652629815926, 2988.4332356952536, 2999.7305099923224]\n"
     ]
    }
   ],
   "source": [
    "ppwf=pwf_calc(B,pi,u,k,ct,phi,rw,q,t,re,r)\n",
    "print('Pressure are :',ppwf)"
   ]
  },
  {
   "cell_type": "code",
   "execution_count": 143,
   "metadata": {},
   "outputs": [
    {
     "data": {
      "text/plain": [
       "[-1.0996127890016931,\n",
       " 0.0,\n",
       " 2.302585092994046,\n",
       " 4.605170185988092,\n",
       " 6.907755278982137,\n",
       " 8.058327306580958]"
      ]
     },
     "execution_count": 143,
     "metadata": {},
     "output_type": "execute_result"
    }
   ],
   "source": [
    "logr=[]\n",
    "for i in range(len(r)):\n",
    "    zz=math.log(r[i])\n",
    "    logr.append(zz)\n",
    "logr"
   ]
  },
  {
   "cell_type": "code",
   "execution_count": 144,
   "metadata": {},
   "outputs": [
    {
     "data": {
      "text/plain": [
       "Text(0, 0.5, 'Pwf')"
      ]
     },
     "execution_count": 144,
     "metadata": {},
     "output_type": "execute_result"
    },
    {
     "data": {
      "image/png": "[encoded data removed]",
      "text/plain": [
       "<Figure size 432x288 with 1 Axes>"
      ]
     },
     "metadata": {
      "needs_background": "light"
     },
     "output_type": "display_data"
    }
   ],
   "source": [
    "plt.semilogx(r,zy,'-D',color='red')\n",
    "plt.xlabel('LOG R')\n",
    "plt.ylabel('Pwf')"
   ]
  },
  {
   "cell_type": "code",
   "execution_count": 251,
   "metadata": {},
   "outputs": [],
   "source": [
    "B=1.13\n",
    "pi=3000\n",
    "u=0.5\n",
    "k=25\n",
    "h=50\n",
    "ct=2*10**(-5)\n",
    "phi=0.16\n",
    "rw=0.333\n",
    "q=350\n",
    "t=[0.1,1,10]\n",
    "re=2000\n",
    "r=[0.333,1,10,100,1000,3160]"
   ]
  },
  {
   "cell_type": "code",
   "execution_count": 252,
   "metadata": {},
   "outputs": [
    {
     "data": {
      "text/plain": [
       "[2863.6548778795664,\n",
       " 2888.21785242224,\n",
       " 2939.652629815926,\n",
       " 2988.4332356952536,\n",
       " 2999.9999999999955,\n",
       " 3000.0,\n",
       " 2863.6548778795664,\n",
       " 2888.21785242224,\n",
       " 2939.652629815926,\n",
       " 2988.4332356952536,\n",
       " 2999.9999999999955,\n",
       " 3000.0,\n",
       " 2863.6548778795664,\n",
       " 2888.21785242224,\n",
       " 2939.652629815926,\n",
       " 2988.4332356952536,\n",
       " 2999.9999999999955,\n",
       " 3000.0]"
      ]
     },
     "execution_count": 252,
     "metadata": {},
     "output_type": "execute_result"
    }
   ],
   "source": [
    "zi=[]\n",
    "zy=[]\n",
    "for hu in range(len(t)):\n",
    "    for y in range(len(r)):\n",
    "        t_n=t[hu]*24\n",
    "        r_n=r[y]\n",
    "        re = math.sqrt((k*t_n)/(948*phi*u*ct))\n",
    "        #print('Value of drainage radius at r:',r_n,'and t:',t_n,'is:',re)\n",
    "        ii=Ei(phi,u,ct,r_n,rw,re,k,t_n)\n",
    "        zi.append(ii)\n",
    "        #print('Value of Ei at r:',r_n,'and t:',t_n,'is:',ii)\n",
    "        pwf=pi+(70.6*q*B*u/(k*h))*zi[y]\n",
    "        zy.append(pwf)\n",
    "        #print('Value of PWF at r:',r_n,'and t:',t_n,'is:',pwf)\n",
    "        x = (948*phi*u*ct*(r_n**2)/(k*t_n))\n",
    "zy\n",
    "       \n",
    "        \n"
   ]
  },
  {
   "cell_type": "code",
   "execution_count": 218,
   "metadata": {},
   "outputs": [
    {
     "data": {
      "text/plain": [
       "0.0026897235840000005"
      ]
     },
     "execution_count": 218,
     "metadata": {},
     "output_type": "execute_result"
    }
   ],
   "source": [
    "t_high= (948*phi*u*ct*re**2)/k\n",
    "t_low =(3.79*10**(5)*phi*u*ct*rw**2)/k\n",
    "t_low"
   ]
  },
  {
   "cell_type": "code",
   "execution_count": 219,
   "metadata": {},
   "outputs": [
    {
     "data": {
      "text/plain": [
       "2.4000000000000004"
      ]
     },
     "execution_count": 219,
     "metadata": {},
     "output_type": "execute_result"
    }
   ],
   "source": [
    "t_high"
   ]
  },
  {
   "cell_type": "code",
   "execution_count": 210,
   "metadata": {},
   "outputs": [
    {
     "data": {
      "text/plain": [
       "1988.893210439325"
      ]
     },
     "execution_count": 210,
     "metadata": {},
     "output_type": "execute_result"
    }
   ],
   "source": []
  },
  {
   "cell_type": "code",
   "execution_count": null,
   "metadata": {},
   "outputs": [],
   "source": []
  }
 ],
 "metadata": {
  "kernelspec": {
   "display_name": "Python 3",
   "language": "python",
   "name": "python3"
  },
  "language_info": {
   "codemirror_mode": {
    "name": "ipython",
    "version": 3
   },
   "file_extension": ".py",
   "mimetype": "text/x-python",
   "name": "python",
   "nbconvert_exporter": "python",
   "pygments_lexer": "ipython3",
   "version": "3.8.3"
  }
 },
 "nbformat": 4,
 "nbformat_minor": 4
}
